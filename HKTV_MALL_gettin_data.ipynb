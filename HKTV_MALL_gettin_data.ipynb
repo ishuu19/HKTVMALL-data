{
 "cells": [
  {
   "cell_type": "markdown",
   "id": "266c2ea7",
   "metadata": {},
   "source": [
    "## HKTV_MALL Answer"
   ]
  },
  {
   "cell_type": "code",
   "execution_count": null,
   "id": "ee466a04",
   "metadata": {},
   "outputs": [],
   "source": []
  },
  {
   "cell_type": "code",
   "execution_count": 48,
   "id": "2c885479",
   "metadata": {},
   "outputs": [],
   "source": [
    "import urllib.request\n",
    "import bs4\n",
    "import time"
   ]
  },
  {
   "cell_type": "code",
   "execution_count": 49,
   "id": "1175d477",
   "metadata": {},
   "outputs": [
    {
     "name": "stdout",
     "output_type": "stream",
     "text": [
      "$ 39.50\n",
      "$ 59.00\n",
      "$ 48.00\n"
     ]
    }
   ],
   "source": [
    "def get_item_price(url):\n",
    "    response = urllib.request.urlopen(urllib.request.Request(\n",
    "        url,\n",
    "        data=None,\n",
    "        headers={\n",
    "            'User-Agent': 'Mozilla/5.0 (Windows NT 10.0; Win64; x64) AppleWebKit/537.36 (KHTML, like Gecko) Chrome/114.0.0.0 Safari/537.36'\n",
    "        }\n",
    "    ))\n",
    "    text = response.read().decode()\n",
    "    html = bs4.BeautifulSoup(text, 'html.parser')\n",
    "    price = html.find('div', attrs={'class': 'price'}).text.strip()\n",
    "    return price\n",
    "\n",
    "item_urls = [\"https://www.hktvmall.com/hktv/en/main/%E6%9C%89%E6%A9%9F%E8%BE%B2%E7%A4%BE%E6%9C%89%E9%99%90%E5%85%AC%E5%8F%B8/s/S6061001/%E8%B6%85%E7%B4%9A%E5%B7%BF%E5%A0%B4/%E8%B6%85%E7%B4%9A%E5%B8%82%E5%A0%B4/%E5%8D%B3%E9%A3%9F%E9%BA%B5-%E9%BA%B5-%E6%84%8F%E7%B2%89/%E6%84%8F%E7%B2%89-%E9%80%9A%E5%BF%83%E7%B2%89/%E6%84%8F%E7%B2%89/%E6%9C%89%E6%A9%9F%E8%94%AC%E8%8F%9C%E5%8B%95%E7%89%A9%E9%80%9A%E7%B2%89/p/S6061001_S_92005S\",\n",
    "             \"https://www.hktvmall.com/hktv/en/main/Yummy-Bear/s/H0956006/%E8%B6%85%E7%B4%9A%E5%B7%BF%E5%A0%B4/%E8%B6%85%E7%B4%9A%E5%B8%82%E5%A0%B4/%E5%8D%B3%E9%A3%9F%E9%BA%B5-%E9%BA%B5-%E6%84%8F%E7%B2%89/%E6%9D%AF%E9%BA%B5/%E6%9D%AF%E9%BA%B5/%E5%85%83%E7%A5%96%E9%9B%9E%E6%B1%81%E6%B3%A1%E9%BA%B5425g-5%E5%8C%85%E8%A3%9D%E5%B9%B3%E8%A1%8C%E9%80%B2%E5%8F%A3%E4%B8%8D%E5%90%8C%E5%8C%85%E8%A3%9D%E9%9A%A8%E6%A9%9F%E5%87%BA/p/H0956006_S_LT10003711\",\n",
    "             \"https://www.hktvmall.com/hktv/en/main/%E7%BE%A9%E7%94%9F%E6%B4%8B%E8%A1%8C%E6%9C%89%E9%99%90%E5%85%AC%E5%8F%B8/s/B0424001/%E8%B6%85%E7%B4%9A%E5%B7%BF%E5%A0%B4/%E8%B6%85%E7%B4%9A%E5%B8%82%E5%A0%B4/%E5%8D%B3%E9%A3%9F%E9%BA%B5-%E9%BA%B5-%E6%84%8F%E7%B2%89/%E6%84%8F%E7%B2%89-%E9%80%9A%E5%BF%83%E7%B2%89/%E6%84%8F%E7%B2%89/%E6%84%8F%E5%A4%A7%E5%88%A9-%E9%98%BF%E5%B8%83%E7%B4%A0-%E7%85%99%E8%82%89%E7%99%BD%E6%B1%81%E9%86%AC-270%E5%85%8B-/p/B0424001_S_8009452225384\"]\n",
    "\n",
    "\n",
    "for url in item_urls:\n",
    "    print(get_item_price(url))\n",
    "    time.sleep(4)\n"
   ]
  },
  {
   "cell_type": "code",
   "execution_count": null,
   "id": "c28d2938",
   "metadata": {},
   "outputs": [],
   "source": []
  }
 ],
 "metadata": {
  "kernelspec": {
   "display_name": "Python 3 (ipykernel)",
   "language": "python",
   "name": "python3"
  },
  "language_info": {
   "codemirror_mode": {
    "name": "ipython",
    "version": 3
   },
   "file_extension": ".py",
   "mimetype": "text/x-python",
   "name": "python",
   "nbconvert_exporter": "python",
   "pygments_lexer": "ipython3",
   "version": "3.11.3"
  }
 },
 "nbformat": 4,
 "nbformat_minor": 5
}
